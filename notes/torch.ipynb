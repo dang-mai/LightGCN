{
 "cells": [
  {
   "attachments": {},
   "cell_type": "markdown",
   "metadata": {},
   "source": [
    "### Torch"
   ]
  },
  {
   "attachments": {},
   "cell_type": "markdown",
   "metadata": {},
   "source": [
    "##### torch.stack\n",
    "torch.stack(tensors, dim=0, *, out=None) → Tensor\n",
    "Concatenates a sequence of tensors along a new dimension.\n",
    "\n",
    "All tensors need to be of the same size.\n",
    "\n",
    "Parameters:\n",
    "tensors (sequence of Tensors) – sequence of tensors to concatenate\n",
    "\n",
    "dim (int) – dimension to insert. Has to be between 0 and the number of dimensions of concatenated tensors (inclusive)\n",
    "\n",
    "**拼接的Tensors有x个轴，拼接得到的大Tensor有x+1个轴，可以把stack理解成沿着某个轴插入小Tensor，构成大Tensor，dim就是沿着哪个轴插入小Tensor**\n",
    "\n",
    "Keyword Arguments:\n",
    "out (Tensor, optional) – the output tensor."
   ]
  },
  {
   "cell_type": "code",
   "execution_count": 19,
   "metadata": {},
   "outputs": [],
   "source": [
    "import torch"
   ]
  },
  {
   "cell_type": "code",
   "execution_count": 31,
   "metadata": {},
   "outputs": [],
   "source": [
    "row = torch.Tensor([1,2,3,4]).long()\n",
    "col = torch.Tensor([5,6,7,8]).long()\n",
    "index = torch.stack([row, col], dim=0)"
   ]
  },
  {
   "cell_type": "code",
   "execution_count": 32,
   "metadata": {},
   "outputs": [
    {
     "data": {
      "text/plain": [
       "tensor([[1, 2, 3, 4],\n",
       "        [5, 6, 7, 8]])"
      ]
     },
     "execution_count": 32,
     "metadata": {},
     "output_type": "execute_result"
    }
   ],
   "source": [
    "index"
   ]
  }
 ],
 "metadata": {
  "kernelspec": {
   "display_name": "hkuds",
   "language": "python",
   "name": "python3"
  },
  "language_info": {
   "codemirror_mode": {
    "name": "ipython",
    "version": 3
   },
   "file_extension": ".py",
   "mimetype": "text/x-python",
   "name": "python",
   "nbconvert_exporter": "python",
   "pygments_lexer": "ipython3",
   "version": "3.9.16"
  },
  "orig_nbformat": 4
 },
 "nbformat": 4,
 "nbformat_minor": 2
}
